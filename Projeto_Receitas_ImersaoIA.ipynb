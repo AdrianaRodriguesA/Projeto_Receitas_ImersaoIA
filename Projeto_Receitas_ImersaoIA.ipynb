{
  "nbformat": 4,
  "nbformat_minor": 0,
  "metadata": {
    "colab": {
      "provenance": [],
      "authorship_tag": "ABX9TyMni8bPreNTz1N3HEURlAwa",
      "include_colab_link": true
    },
    "kernelspec": {
      "name": "python3",
      "display_name": "Python 3"
    },
    "language_info": {
      "name": "python"
    }
  },
  "cells": [
    {
      "cell_type": "markdown",
      "metadata": {
        "id": "view-in-github",
        "colab_type": "text"
      },
      "source": [
        "<a href=\"https://colab.research.google.com/github/AdrianaRodriguesA/Projeto_Receitas_ImersaoIA/blob/main/Projeto_Receitas_ImersaoIA.ipynb\" target=\"_parent\"><img src=\"https://colab.research.google.com/assets/colab-badge.svg\" alt=\"Open In Colab\"/></a>"
      ]
    },
    {
      "cell_type": "markdown",
      "source": [
        "Instalando o SDK do Google"
      ],
      "metadata": {
        "id": "ygKY7vmdTALR"
      }
    },
    {
      "cell_type": "code",
      "execution_count": null,
      "metadata": {
        "id": "8vogJLQzRGgM"
      },
      "outputs": [],
      "source": [
        "!pip install -q -U google-generativeai"
      ]
    },
    {
      "cell_type": "markdown",
      "source": [
        "Ocultando a chave api-key"
      ],
      "metadata": {
        "id": "GXber9bZTRmS"
      }
    },
    {
      "cell_type": "code",
      "source": [
        "import google.generativeai as genai\n",
        "from google.colab import userdata\n",
        "API_KEY = userdata.get('CHAVE_SECRETA')\n",
        "genai.configure(api_key=API_KEY)"
      ],
      "metadata": {
        "id": "ivLvYU9iRXjs"
      },
      "execution_count": null,
      "outputs": []
    },
    {
      "cell_type": "markdown",
      "source": [
        "Inicializando o modelo"
      ],
      "metadata": {
        "id": "C9RZK7NNTgsX"
      }
    },
    {
      "cell_type": "code",
      "source": [
        "model = genai.GenerativeModel(model_name='gemini-1.0-pro')"
      ],
      "metadata": {
        "id": "hhXNGRbqRqHe"
      },
      "execution_count": null,
      "outputs": []
    },
    {
      "cell_type": "code",
      "source": [
        "print(\"## Delicie-se com os Sabores dos paises! ##\")\n",
        "print('--------------------------------------------')\n",
        "# Solicite o nome do país ao usuário\n",
        "pais_escolhido = input(\"Qual país você deseja explorar? \").title()\n",
        "print('--------------------------------------------')\n",
        "response = model.generate_content(\n",
        "    f\"quero uma receita detalhada de como fazer uma comida típica do {pais_escolhido} pelo usuário digitado no input acima, sendo uma receita salgada e uma receita doce\"\n",
        ")\n",
        "print(response.text)\n",
        "print('--------------------------------------------')"
      ],
      "metadata": {
        "colab": {
          "base_uri": "https://localhost:8080/",
          "height": 1000
        },
        "id": "QFMzs2fHRsYK",
        "outputId": "3ee41beb-9a5b-41f1-ab32-4b7d09adb7c1"
      },
      "execution_count": null,
      "outputs": [
        {
          "output_type": "stream",
          "name": "stdout",
          "text": [
            "## Delicie-se com os Sabores dos paises! ##\n",
            "--------------------------------------------\n",
            "Qual país você deseja explorar? Portugal\n",
            "--------------------------------------------\n",
            "**Receita Salgada: Bacalhau à Gomes de Sá**\n",
            "\n",
            "**Ingredientes:**\n",
            "\n",
            "* 500g de bacalhau demolhado e desfiado\n",
            "* 500g de batatas cozidas e cortadas em cubos\n",
            "* 1 cebola grande picada\n",
            "* 2 dentes de alho picados\n",
            "* 100ml de azeite\n",
            "* 100ml de leite\n",
            "* 2 ovos\n",
            "* Azeitonas pretas para decorar\n",
            "\n",
            "**Instruções:**\n",
            "\n",
            "1. Refogue a cebola e o alho no azeite até dourar.\n",
            "2. Adicione o bacalhau e cozinhe por alguns minutos.\n",
            "3. Acrescente as batatas e tempere com sal e pimenta.\n",
            "4. Despeje o leite e cozinhe até ferver.\n",
            "5. Retire do fogo e misture os ovos batidos.\n",
            "6. Coloque a mistura em uma travessa refratária e leve ao forno pré-aquecido a 180°C por cerca de 20 minutos, ou até gratinar.\n",
            "7. Sirva quente, decorado com azeitonas pretas.\n",
            "\n",
            "**Receita Doce: Pastéis de Nata**\n",
            "\n",
            "**Ingredientes:**\n",
            "\n",
            "**Massa:**\n",
            "* 250g de farinha de trigo\n",
            "* 125g de manteiga fria cortada em cubos\n",
            "* 1 colher de chá de sal\n",
            "* 1 gema\n",
            "\n",
            "**Recheio:**\n",
            "* 500ml de leite\n",
            "* 100g de açúcar\n",
            "* 1 colher de sopa de amido de milho\n",
            "* 4 gemas\n",
            "* 1 rama de canela\n",
            "* Raspas de limão\n",
            "\n",
            "**Instruções:**\n",
            "\n",
            "**Massa:**\n",
            "1. Em uma tigela, misture a farinha, o sal e a manteiga até formar uma farofa.\n",
            "2. Adicione a gema e amasse até formar uma bola.\n",
            "3. Embrulhe a massa em filme plástico e leve à geladeira por pelo menos 30 minutos.\n",
            "\n",
            "**Recheio:**\n",
            "1. Em uma panela, misture o leite, o açúcar, o amido de milho, as gemas, a canela e as raspas de limão.\n",
            "2. Cozinhe em fogo médio, mexendo sempre, até engrossar.\n",
            "3. Retire do fogo e deixe esfriar.\n",
            "\n",
            "**Montagem:**\n",
            "1. Pré-aqueça o forno a 220°C.\n",
            "2. Estenda a massa sobre uma superfície enfarinhada e corte círculos com cerca de 10cm de diâmetro.\n",
            "3. Coloque os círculos em forminhas de empada untadas com manteiga.\n",
            "4. Despeje o recheio nas forminhas e asse por cerca de 20 minutos, ou até que a massa esteja dourada e o recheio esteja firme.\n",
            "5. Deixe esfriar ligeiramente antes de servir polvilhados com canela em pó.\n",
            "--------------------------------------------\n"
          ]
        }
      ]
    },
    {
      "cell_type": "code",
      "source": [],
      "metadata": {
        "id": "FbIlzFRAo6-W"
      },
      "execution_count": null,
      "outputs": []
    }
  ]
}